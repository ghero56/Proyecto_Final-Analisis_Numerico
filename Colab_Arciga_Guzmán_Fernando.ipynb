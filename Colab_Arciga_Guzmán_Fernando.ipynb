{
  "nbformat": 4,
  "nbformat_minor": 0,
  "metadata": {
    "colab": {
      "name": "Colab_Arciga_Guzmán_Fernando.ipynb",
      "provenance": [],
      "collapsed_sections": [],
      "authorship_tag": "ABX9TyM1JWYrfiVTfZ1pDd2oZIPY",
      "include_colab_link": true
    },
    "kernelspec": {
      "name": "python3",
      "display_name": "Python 3"
    },
    "language_info": {
      "name": "python"
    }
  },
  "cells": [
    {
      "cell_type": "markdown",
      "metadata": {
        "id": "view-in-github",
        "colab_type": "text"
      },
      "source": [
        "<a href=\"https://colab.research.google.com/github/ghero56/Proyecto_Final-Analisis_Numerico/blob/main/Colab_Arciga_Guzm%C3%A1n_Fernando.ipynb\" target=\"_parent\"><img src=\"https://colab.research.google.com/assets/colab-badge.svg\" alt=\"Open In Colab\"/></a>"
      ]
    },
    {
      "cell_type": "markdown",
      "source": [
        "# Proyecto Final de Análisis numérico\n",
        "## Alumno: Fernando Arciga Guzmán\n",
        "\n",
        "## Obligatorios:\n",
        "- Método de Taylor\n",
        "- Método de Newton-Raphson\n",
        "- Método de Gauss-Seidel\n",
        "- Método de Cuadratura Gaussiana para polinomios de grado 'n'\n",
        "- Método de Runge Kutta 4 para ecuaciones de orden 'n'\n",
        "\n",
        "## Opcionales:\n",
        "- Integrales de montecarlo (función, límites[a,b], n_puntos)\n",
        "![Integrales por Montecarlo](https://programmerclick.com/images/255/d70ecb01e291b6185a67409d97f6635f.png)\n",
        "- Graficar el conjunto de Mandelbrot (velocidad, coordenadas_vertices)\n",
        "![Conjunto de Mandelbrot](https://www3.gobiernodecanarias.org/medusa/ecoblog/mrodperv/files/2015/12/f.jpg)\n",
        "- Graficar el fractal de Newton (raices_complejas, coordenadas_vertices)\n",
        "![Fractal de Newton](https://upload.wikimedia.org/wikipedia/commons/d/db/Julia_set_for_the_rational_function.png)\n",
        "\n",
        "\n",
        "\n",
        "[Criterios de evaluación completos](https://www.dropbox.com/sh/ycus7mbaq5qtynv/AADsPhUEEwak7mVXUQowwnTLa/Clase%201?dl=0&preview=ProyectoFinal.pdf&subfolder_nav_tracking=1)"
      ],
      "metadata": {
        "id": "_U96Of5ZWhCd"
      }
    },
    {
      "cell_type": "markdown",
      "source": [
        "### Método de Taylor"
      ],
      "metadata": {
        "id": "tqttuWVtYvT-"
      }
    },
    {
      "cell_type": "code",
      "source": [
        "# ejercicio 1\n",
        "import matplotlib.pyplot as plt\n",
        "import numpy as np\n",
        "from sympy import *\n",
        "\n",
        "# symbolic python\n",
        "x = symbols(\"x\")\n",
        "    # diff es derivar\n",
        "    # subs es evaluar\n",
        "\n",
        "# Función\n",
        "f = cos(4 -(x**(6/5))) + 3*(np.e**(5 - x)) - 4*sin(x) + 2\n",
        "\n",
        "# Datos para taylor\n",
        "x0 = 1.6 # Centro de la serie\n",
        "n = 5 # Grado del polinomio\n",
        "xn = 5 # Valor para evaluar el polinomio\n",
        "\n",
        "# Polinomio de Taylor\n",
        "p = f.subs(x, x0)\n",
        "fp = f\n",
        "for k in range(1,n+1):\n",
        "    fp = diff(fp, x)\n",
        "    p += fp.subs(x, x0)/factorial(k) * (x - x0)**k\n",
        "p = expand(p)\n",
        "\n",
        "print(f\"El polinómio de grado {n} es: \\n p_{n} = {p}\")\n",
        "print(f\"La evaluación de p_{n}({xn}) es: \\n p_{n}({xn}) = {round(p.subs(x, xn),5)}\")"
      ],
      "metadata": {
        "colab": {
          "base_uri": "https://localhost:8080/"
        },
        "id": "VW3310ndcgSr",
        "outputId": "694f1a1f-7258-4d33-c1a0-2658e3e96fca"
      },
      "execution_count": null,
      "outputs": [
        {
          "output_type": "stream",
          "name": "stdout",
          "text": [
            "El polinómio de grado 5 es: \n",
            " p_5 = -0.734484028679952*x**5 + 9.31432146002803*x**4 - 56.0524816321196*x**3 + 203.618814447569*x**2 - 438.378863519394*x + 443.664106921389\n",
            "La evaluación de p_5(5) es: \n",
            " p_5(5) = -138.13173\n"
          ]
        }
      ]
    },
    {
      "cell_type": "code",
      "source": [
        "# ejercicio 2\n",
        "import matplotlib.pyplot as plt\n",
        "import numpy as np\n",
        "from sympy import *\n",
        "\n",
        "# symbolic python\n",
        "x = symbols(\"x\")\n",
        "    # diff es derivar\n",
        "    # subs es evaluar\n",
        "\n",
        "# Función\n",
        "f = np.e**(4 - x) - 4*sin(x) + cos(3-x) + 1\n",
        "\n",
        "# Datos para taylor\n",
        "x0 = 2.6 # Centro de la serie\n",
        "n = 6 # Grado del polinomio\n",
        "xn = 5 # Valor para evaluar el polinomio\n",
        "\n",
        "# Polinomio de Taylor\n",
        "p = f.subs(x, x0)\n",
        "fp = f\n",
        "for k in range(1,n+1):\n",
        "    fp = diff(fp, x)\n",
        "    p += fp.subs(x, x0)/factorial(k) * (x - x0)**k\n",
        "p = expand(p)\n",
        "\n",
        "print(f\"El polinómio de grado {n} es: \\n p_{n} = {p}\")\n",
        "print(f\"La evaluación de p_{n}({xn}) es: \\n p_{n}({xn}) = {round(p.subs(x, xn),5)}\")"
      ],
      "metadata": {
        "colab": {
          "base_uri": "https://localhost:8080/"
        },
        "id": "F0Nv8vFsdp09",
        "outputId": "9f2c1f6b-86d5-4510-d98b-0b3deb07bc0b"
      },
      "execution_count": null,
      "outputs": [
        {
          "output_type": "stream",
          "name": "stdout",
          "text": [
            "El polinómio de grado 6 es: \n",
            " p_6 = 0.00721686730573284*x**6 - 0.114568351728268*x**5 + 0.879025539064573*x**4 - 5.24594711185673*x**3 + 23.0528146069907*x**2 - 54.4913519277558*x + 53.1710451883049\n",
            "La evaluación de p_6(5) es: \n",
            " p_6(5) = 5.41968\n"
          ]
        }
      ]
    },
    {
      "cell_type": "code",
      "source": [
        "# Ejercicio 3\n",
        "import matplotlib.pyplot as plt\n",
        "import numpy as np\n",
        "from sympy import *\n",
        "\n",
        "# symbolic python\n",
        "x = symbols(\"x\")\n",
        "    # diff es derivar\n",
        "    # subs es evaluar\n",
        "\n",
        "# Función\n",
        "f = cos(5 - (x**(3/5))) + 5*(np.e**(4 - x)) - sin(x) + 5\n",
        "\n",
        "# Datos para taylor\n",
        "x0 = 1.4 # Centro de la serie\n",
        "n = 8 # Grado del polinomio\n",
        "xn = 6 # Valor para evaluar el polinomio\n",
        "\n",
        "# Polinomio de Taylor\n",
        "p = f.subs(x, x0)\n",
        "fp = f\n",
        "for k in range(1,n+1):\n",
        "    fp = diff(fp, x)\n",
        "    p += fp.subs(x, x0)/factorial(k) * (x - x0)**k\n",
        "p = expand(p)\n",
        "\n",
        "print(f\"El polinómio de grado {n} es: \\n p_{n} = {p}\")\n",
        "print(f\"La evaluación de p_{n}({xn}) es: \\n p_{n}({xn}) = {round(p.subs(x, xn),5)}\")"
      ],
      "metadata": {
        "colab": {
          "base_uri": "https://localhost:8080/"
        },
        "id": "CHf12TimeG9W",
        "outputId": "d05beec3-37b4-445f-dec8-5ad9968075c4"
      },
      "execution_count": null,
      "outputs": [
        {
          "output_type": "stream",
          "name": "stdout",
          "text": [
            "El polinómio de grado 8 es: \n",
            " p_8 = 0.00245436404804803*x**8 - 0.0422301252960786*x**7 + 0.376606339867594*x**6 - 2.36979974490997*x**5 + 11.686535536432*x**4 - 45.9494416916519*x**3 + 137.439123074007*x**2 - 275.332790016963*x + 278.122112059878\n",
            "La evaluación de p_8(6) es: \n",
            " p_8(6) = 238.64380\n"
          ]
        }
      ]
    },
    {
      "cell_type": "code",
      "source": [
        "# Ejercicio 4\n",
        "import matplotlib.pyplot as plt\n",
        "import numpy as np\n",
        "from sympy import *\n",
        "\n",
        "# symbolic python\n",
        "x = symbols(\"x\")\n",
        "    # diff es derivar\n",
        "    # subs es evaluar\n",
        "\n",
        "# Función\n",
        "f = 2*(np.e**(3 - x)) - sin(x) + cos(4 - (x**(1/5))) + 1\n",
        "\n",
        "# Datos para taylor\n",
        "x0 = 1.6 # Centro de la serie\n",
        "n = 8 # Grado del polinomio\n",
        "xn = 5 # Valor para evaluar el polinomio\n",
        "\n",
        "# Polinomio de Taylor\n",
        "p = f.subs(x, x0)\n",
        "fp = f\n",
        "for k in range(1,n+1):\n",
        "    fp = diff(fp, x)\n",
        "    p += fp.subs(x, x0)/factorial(k) * (x - x0)**k\n",
        "p = expand(p)\n",
        "\n",
        "print(f\"El polinómio de grado {n} es: \\n p_{n} = {p}\")\n",
        "print(f\"La evaluación de p_{n}({xn}) es: \\n p_{n}({xn}) = {round(p.subs(x, xn),5)}\")"
      ],
      "metadata": {
        "colab": {
          "base_uri": "https://localhost:8080/"
        },
        "id": "y2POon_deqP0",
        "outputId": "cb7326da-dfdb-4151-fa76-bc29c1076b48"
      },
      "execution_count": null,
      "outputs": [
        {
          "output_type": "stream",
          "name": "stdout",
          "text": [
            "El polinómio de grado 8 es: \n",
            " p_8 = 0.000279734447809132*x**8 - 0.00537831494117352*x**7 + 0.0531632312294566*x**6 - 0.353314313335463*x**5 + 1.72504975886873*x**4 - 6.63942778103598*x**3 + 20.2269656750951*x**2 - 41.2430170246351*x + 40.1823266050039\n",
            "La evaluación de p_8(5) es: \n",
            " p_8(5) = 3.52768\n"
          ]
        }
      ]
    },
    {
      "cell_type": "code",
      "source": [
        "# Ejercicio 5\n",
        "import matplotlib.pyplot as plt\n",
        "import numpy as np\n",
        "from sympy import *\n",
        "\n",
        "# symbolic python\n",
        "x = symbols(\"x\")\n",
        "    # diff es derivar\n",
        "    # subs es evaluar\n",
        "\n",
        "# Función\n",
        "f = cos(4 - (x**(8/5))) + 3*(np.e**(2 - x)) - 3*sin(x) + 3\n",
        "\n",
        "# Datos para taylor\n",
        "x0 = 2.0 # Centro de la serie\n",
        "n = 9 # Grado del polinomio\n",
        "xn = 7 # Valor para evaluar el polinomio\n",
        "\n",
        "# Polinomio de Taylor\n",
        "p = f.subs(x, x0)\n",
        "fp = f\n",
        "for k in range(1,n+1):\n",
        "    fp = diff(fp, x)\n",
        "    p += fp.subs(x, x0)/factorial(k) * (x - x0)**k\n",
        "p = expand(p)\n",
        "\n",
        "print(f\"El polinómio de grado {n} es: \\n p_{n} = {p}\")\n",
        "print(f\"La evaluación de p_{n}({xn}) es: \\n p_{n}({xn}) = {round(p.subs(x, xn),5)}\")"
      ],
      "metadata": {
        "colab": {
          "base_uri": "https://localhost:8080/"
        },
        "id": "PVqHyQoBfFqG",
        "outputId": "bd7bf603-1c24-4b56-cce0-35e1fe59a332"
      },
      "execution_count": null,
      "outputs": [
        {
          "output_type": "stream",
          "name": "stdout",
          "text": [
            "El polinómio de grado 9 es: \n",
            " p_9 = -0.0110063537315478*x**9 + 0.0929115662309857*x**8 - 0.0244666428024762*x**7 - 2.30845136560798*x**6 + 11.2972476518191*x**5 - 27.3524959766626*x**4 + 39.4694461669732*x**3 - 27.9490340468522*x**2 - 5.68930292858633*x + 20.1082821509405\n",
            "La evaluación de p_9(7) es: \n",
            " p_9(7) = -63917.41122\n"
          ]
        }
      ]
    },
    {
      "cell_type": "markdown",
      "source": [
        "### Método Newton-Raphson"
      ],
      "metadata": {
        "id": "CvVGhKdXZI9b"
      }
    },
    {
      "cell_type": "code",
      "source": [
        "import math\n",
        "# Newton-Raphson encuentra raices\n",
        "E = 0\n",
        "# x0 = 1\n",
        "# x0 = 0\n",
        "x0 = 1.6\n",
        "\n",
        "# función objetivo\n",
        "f = lambda x : math.cos(17 - math.e**x) + 17 - math.e**x\n",
        "    # (round(math.e, 3)**x) - 2\n",
        "    # x**2 - 2 * x - 3\n",
        "    \n",
        "\n",
        "f_ = lambda x : (math.e**x)*math.sin(17 - math.e**x) + 17 - math.e**x\n",
        "    # (round(math.e, 3))**x\n",
        "    # 2 * x - 2\n",
        "\n",
        "\n",
        "def NewtonRaphson(x, e = 1, i = 0): # por iteración o por error\n",
        "    if i == 3:\n",
        "        print(\"iteración\", i, end=\"|\")\n",
        "        print(\"Valor x\", x, end=\"|\")\n",
        "        print(\"Valor e\", e)\n",
        "        return\n",
        "    print(\"iteración\", i, end=\"|\")\n",
        "    i += 1\n",
        "    x_ = x - (f(x)/f_(x)) # núcleo del método\n",
        "    print(\"Valor x\", x, end=\"|\")\n",
        "    print(\"Valor e\", e)\n",
        "    e = x_ - x\n",
        "    NewtonRaphson(x_, e, i)\n",
        "\n",
        "if __name__ == '__main__':\n",
        "    NewtonRaphson(x0)\n"
      ],
      "metadata": {
        "colab": {
          "base_uri": "https://localhost:8080/"
        },
        "id": "0MjyvpniZEN7",
        "outputId": "9d6d9720-669f-404c-8475-23bad36e6916"
      },
      "execution_count": null,
      "outputs": [
        {
          "output_type": "stream",
          "name": "stdout",
          "text": [
            "iteración 0|Valor x 1.6|Valor e 1\n",
            "iteración 1|Valor x 0.2530611747537077|Valor e -1.3469388252462924\n",
            "iteración 2|Valor x -0.6836067439634049|Valor e -0.9366679187171126\n",
            "iteración 3|Valor x -1.6620298218475567|Valor e -0.9784230778841517\n"
          ]
        }
      ]
    },
    {
      "cell_type": "code",
      "source": [
        "# ejercicio 1\n",
        "import math\n",
        "import matplotlib.pyplot as plt\n",
        "import numpy as np\n",
        "from sympy import *\n",
        "\n",
        "# symbolic python\n",
        "\n",
        "  \n",
        "# Newton-Raphson encuentra raices\n",
        "E = 1 * (10**-8)\n",
        "\n",
        "x0 = 1.7 # valor a tomar\n",
        "\n",
        "\n",
        "x = symbols(\"x\")\n",
        "# función objetivo\n",
        "f = -np.e**x + sin(x+13) + cos(13-x)+13\n",
        "\n",
        "f_ = diff(f,x)\n",
        "\n",
        "def NewtonRaphson(xi, e = 1, i = 0): # por iteración o por error\n",
        "  xi = float(xi)\n",
        "  #if i == 3:\n",
        "  if e < E:\n",
        "    print(\"iteración\", i, end=\"|\")\n",
        "    print(\"Valor x\", xi, end=\"|\")\n",
        "    print(\"Valor e\", e)\n",
        "    return\n",
        "  print(\"iteración\", i, end=\"|\")\n",
        "  i += 1\n",
        "  x_ = float(xi - f.subs(x ,xi)/f_.subs(x ,xi)) # núcleo del método\n",
        "  print(\"Valor x\", xi, end=\"|\")\n",
        "  print(\"Valor e\", e)\n",
        "  e = abs(float(x_ - xi))\n",
        "  NewtonRaphson(x_, e, i)\n",
        "\n",
        "if __name__ == '__main__':\n",
        "    NewtonRaphson(x0)"
      ],
      "metadata": {
        "colab": {
          "base_uri": "https://localhost:8080/"
        },
        "id": "KaDVBxmDg2uk",
        "outputId": "20f31f95-2569-4a13-b1b8-4b1e347ac377"
      },
      "execution_count": null,
      "outputs": [
        {
          "output_type": "stream",
          "name": "stdout",
          "text": [
            "iteración 0|Valor x 1.7|Valor e 1\n",
            "iteración 1|Valor x 2.9456340185603676|Valor e 1.2456340185603676\n",
            "iteración 2|Valor x 2.602327176392479|Valor e 0.3433068421678884\n",
            "iteración 3|Valor x 2.540132522757893|Valor e 0.06219465363458632\n",
            "iteración 4|Valor x 2.5384283813876856|Valor e 0.001704141370207246\n",
            "iteración 5|Valor x 2.538427146993434|Valor e 1.2343942517034634e-06\n",
            "iteración 6|Valor x 2.5384271469927864|Valor e 6.474820679613913e-13\n"
          ]
        }
      ]
    },
    {
      "cell_type": "code",
      "source": [
        "# ejercicio 2\n",
        "import math\n",
        "import matplotlib.pyplot as plt\n",
        "import numpy as np\n",
        "from sympy import *\n",
        "\n",
        "# symbolic python\n",
        "\n",
        "  \n",
        "# Newton-Raphson encuentra raices\n",
        "E = 1 * (10**-8)\n",
        "\n",
        "x0 = 2.1 # valor a tomar\n",
        "\n",
        "\n",
        "x = symbols(\"x\")\n",
        "# función objetivo\n",
        "f = -np.e**x + sin(x+5) + cos(5-x)+5\n",
        "\n",
        "f_ = diff(f,x)\n",
        "\n",
        "def NewtonRaphson(xi, e = 1, i = 0): # por iteración o por error\n",
        "  xi = float(xi)\n",
        "  #if i == 3:\n",
        "  if e < E:\n",
        "    print(\"iteración\", i, end=\"|\")\n",
        "    print(\"Valor x\", xi, end=\"|\")\n",
        "    print(\"Valor e\", e)\n",
        "    return\n",
        "  print(\"iteración\", i, end=\"|\")\n",
        "  i += 1\n",
        "  x_ = float(xi - f.subs(x ,xi)/f_.subs(x ,xi)) # núcleo del método\n",
        "  print(\"Valor x\", xi, end=\"|\")\n",
        "  print(\"Valor e\", e)\n",
        "  e = abs(float(x_ - xi))\n",
        "  NewtonRaphson(x_, e, i)\n",
        "\n",
        "if __name__ == '__main__':\n",
        "    NewtonRaphson(x0)"
      ],
      "metadata": {
        "colab": {
          "base_uri": "https://localhost:8080/"
        },
        "id": "6Jmdk28JtcnW",
        "outputId": "df998349-b765-40d5-f50b-718b876c296f"
      },
      "execution_count": null,
      "outputs": [
        {
          "output_type": "stream",
          "name": "stdout",
          "text": [
            "iteración 0|Valor x 2.1|Valor e 1\n",
            "iteración 1|Valor x 1.6294141014131636|Valor e 0.4705858985868365\n",
            "iteración 2|Valor x 1.4617846440451645|Valor e 0.16762945736799906\n",
            "iteración 3|Valor x 1.4460761663116224|Valor e 0.015708477733542114\n",
            "iteración 4|Valor x 1.4459567346619049|Valor e 0.0001194316497175052\n",
            "iteración 5|Valor x 1.4459567278568801|Valor e 6.8050247659101615e-09\n"
          ]
        }
      ]
    },
    {
      "cell_type": "code",
      "source": [
        "# ejercicio 3\n",
        "import math\n",
        "import matplotlib.pyplot as plt\n",
        "import numpy as np\n",
        "from sympy import *\n",
        "\n",
        "# symbolic python\n",
        "\n",
        "  \n",
        "# Newton-Raphson encuentra raices\n",
        "E = 1 * (10**-8)\n",
        "\n",
        "x0 = 1.5 # valor a tomar\n",
        "\n",
        "\n",
        "x = symbols(\"x\")\n",
        "# función objetivo\n",
        "f = -np.e**x + sin(x+23) + cos(23-x)+23\n",
        "\n",
        "f_ = diff(f,x)\n",
        "\n",
        "def NewtonRaphson(xi, e = 1, i = 0): # por iteración o por error\n",
        "  xi = float(xi)\n",
        "  #if i == 3:\n",
        "  if e < E:\n",
        "    print(\"iteración\", i, end=\"|\")\n",
        "    print(\"Valor x\", xi, end=\"|\")\n",
        "    print(\"Valor e\", e)\n",
        "    return\n",
        "  print(\"iteración\", i, end=\"|\")\n",
        "  i += 1\n",
        "  x_ = float(xi - f.subs(x ,xi)/f_.subs(x ,xi)) # núcleo del método\n",
        "  print(\"Valor x\", xi, end=\"|\")\n",
        "  print(\"Valor e\", e)\n",
        "  e = abs(float(x_ - xi))\n",
        "  NewtonRaphson(x_, e, i)\n",
        "\n",
        "if __name__ == '__main__':\n",
        "    NewtonRaphson(x0)"
      ],
      "metadata": {
        "colab": {
          "base_uri": "https://localhost:8080/"
        },
        "id": "BU-m0KsttqP0",
        "outputId": "81552cf4-74e6-4e0b-b73e-defaf6994d5e"
      },
      "execution_count": null,
      "outputs": [
        {
          "output_type": "stream",
          "name": "stdout",
          "text": [
            "iteración 0|Valor x 1.5|Valor e 1\n",
            "iteración 1|Valor x 6.820559932392614|Valor e 5.320559932392614\n",
            "iteración 2|Valor x 5.844102701721571|Valor e 0.9764572306710431\n",
            "iteración 3|Valor x 4.913758625820383|Valor e 0.9303440759011883\n",
            "iteración 4|Valor x 4.100308898600198|Valor e 0.8134497272201848\n",
            "iteración 5|Valor x 3.516443308852484|Valor e 0.5838655897477141\n",
            "iteración 6|Valor x 3.2465339174553534|Valor e 0.26990939139713044\n",
            "iteración 7|Valor x 3.198107921017295|Valor e 0.04842599643805823\n",
            "iteración 8|Valor x 3.196753344977077|Valor e 0.0013545760402182694\n",
            "iteración 9|Valor x 3.1967523174888077|Valor e 1.0274882691341247e-06\n",
            "iteración 10|Valor x 3.1967523174882175|Valor e 5.901945598907332e-13\n"
          ]
        }
      ]
    },
    {
      "cell_type": "code",
      "source": [
        "# ejercicio 4\n",
        "import math\n",
        "import matplotlib.pyplot as plt\n",
        "import numpy as np\n",
        "from sympy import *\n",
        "\n",
        "# symbolic python\n",
        "\n",
        "  \n",
        "# Newton-Raphson encuentra raices\n",
        "E = 1 * (10**-8)\n",
        "\n",
        "x0 = 2.2 # valor a tomar\n",
        "\n",
        "\n",
        "x = symbols(\"x\")\n",
        "# función objetivo\n",
        "f = -np.e**x + sin(x+25) + cos(25-x)+25\n",
        "\n",
        "f_ = diff(f,x)\n",
        "\n",
        "def NewtonRaphson(xi, e = 1, i = 0): # por iteración o por error\n",
        "  xi = float(xi)\n",
        "  #if i == 3:\n",
        "  if e < E:\n",
        "    print(\"iteración\", i, end=\"|\")\n",
        "    print(\"Valor x\", xi, end=\"|\")\n",
        "    print(\"Valor e\", e)\n",
        "    return\n",
        "  print(\"iteración\", i, end=\"|\")\n",
        "  i += 1\n",
        "  x_ = float(xi - f.subs(x ,xi)/f_.subs(x ,xi)) # núcleo del método\n",
        "  print(\"Valor x\", xi, end=\"|\")\n",
        "  print(\"Valor e\", e)\n",
        "  e = abs(float(x_ - xi))\n",
        "  NewtonRaphson(x_, e, i)\n",
        "\n",
        "if __name__ == '__main__':\n",
        "    NewtonRaphson(x0)"
      ],
      "metadata": {
        "colab": {
          "base_uri": "https://localhost:8080/"
        },
        "id": "vmwHkD68t234",
        "outputId": "ac19ec5d-1f15-4f11-a01c-3e013ee9d13e"
      },
      "execution_count": null,
      "outputs": [
        {
          "output_type": "stream",
          "name": "stdout",
          "text": [
            "iteración 0|Valor x 2.2|Valor e 1\n",
            "iteración 1|Valor x 3.780851273744997|Valor e 1.580851273744997\n",
            "iteración 2|Valor x 3.3253685194278955|Valor e 0.4554827543171016\n",
            "iteración 3|Valor x 3.191648305130196|Valor e 0.13372021429769942\n",
            "iteración 4|Valor x 3.182530848662707|Valor e 0.00911745646748896\n",
            "iteración 5|Valor x 3.1824919091545842|Valor e 3.8939508122837196e-05\n",
            "iteración 6|Valor x 3.182491908448617|Valor e 7.05967284631015e-10\n"
          ]
        }
      ]
    },
    {
      "cell_type": "code",
      "source": [
        "# ejercicio 5\n",
        "import math\n",
        "import matplotlib.pyplot as plt\n",
        "import numpy as np\n",
        "from sympy import *\n",
        "\n",
        "# symbolic python\n",
        "\n",
        "  \n",
        "# Newton-Raphson encuentra raices\n",
        "E = 1 * (10**-8)\n",
        "\n",
        "x0 = 1.9 # valor a tomar\n",
        "\n",
        "\n",
        "x = symbols(\"x\")\n",
        "# función objetivo\n",
        "f = -np.e**x + sin(x+18) + cos(18-x)+18\n",
        "\n",
        "f_ = diff(f,x)\n",
        "\n",
        "def NewtonRaphson(xi, e = 1, i = 0): # por iteración o por error\n",
        "  xi = float(xi)\n",
        "  #if i == 3:\n",
        "  if e < E:\n",
        "    print(\"iteración\", i, end=\"|\")\n",
        "    print(\"Valor x\", xi, end=\"|\")\n",
        "    print(\"Valor e\", e)\n",
        "    return\n",
        "  print(\"iteración\", i, end=\"|\")\n",
        "  i += 1\n",
        "  x_ = float(xi - f.subs(x ,xi)/f_.subs(x ,xi)) # núcleo del método\n",
        "  print(\"Valor x\", xi, end=\"|\")\n",
        "  print(\"Valor e\", e)\n",
        "  e = abs(float(x_ - xi))\n",
        "  NewtonRaphson(x_, e, i)\n",
        "\n",
        "if __name__ == '__main__':\n",
        "    NewtonRaphson(x0)"
      ],
      "metadata": {
        "colab": {
          "base_uri": "https://localhost:8080/"
        },
        "id": "ZbTmUZbvuFQY",
        "outputId": "f83eccfe-8a5d-46eb-fbf8-0c2fa8e4919e"
      },
      "execution_count": null,
      "outputs": [
        {
          "output_type": "stream",
          "name": "stdout",
          "text": [
            "iteración 0|Valor x 1.9|Valor e 1\n",
            "iteración 1|Valor x 3.613284685779262|Valor e 1.713284685779262\n",
            "iteración 2|Valor x 3.101363638337572|Valor e 0.5119210474416902\n",
            "iteración 3|Valor x 2.914262722040114|Valor e 0.18710091629745795\n",
            "iteración 4|Valor x 2.894219943725588|Valor e 0.020042778314525833\n",
            "iteración 5|Valor x 2.8940143838111476|Valor e 0.00020555991444037858\n",
            "iteración 6|Valor x 2.894014362473908|Valor e 2.133723953079425e-08\n",
            "iteración 7|Valor x 2.894014362473908|Valor e 0.0\n"
          ]
        }
      ]
    },
    {
      "cell_type": "markdown",
      "source": [
        "### Método de Gauss-Seidel"
      ],
      "metadata": {
        "id": "XW2g93qnZJKA"
      }
    },
    {
      "cell_type": "code",
      "source": [
        "a = 16\n",
        "b = -18\n",
        "c = 2\n",
        "\n",
        "x0 = [a,b,c] # x1k x2k x3k\n",
        "\n",
        "x = [0,0,0] # vector de incognitas nuevas\n",
        "\n",
        "while e > 0.05:\n",
        "#for i in range(len(x)):\n",
        "    x[0] = round((-1/20)*(36+(12*x0[1])+(x0[2])), 3) # x1k+1 = x2k + x3k\n",
        "    x[1] = round((-1/47)*(50+(18*x[0])+(19*x0[2])), 3) # x2k+1 = x1k+1 + x3k\n",
        "    x[2] = round((-1/7)*(36+(2*x[0])+(6*x[1])), 3) # x3k \n",
        "    print(x)\n",
        "    e = round((((x[0]-x0[0])**2) + ((x[1]-x0[1])**2) + ((x[2]-x0[2])**2))**(1/2), 3)\n",
        "    print(e)\n",
        "    if e <= 0.05:\n",
        "        break\n",
        "    for i in range(3):\n",
        "        x0[i] = x[i]\n"
      ],
      "metadata": {
        "id": "AfdRwIJmZJyP"
      },
      "execution_count": null,
      "outputs": []
    },
    {
      "cell_type": "markdown",
      "source": [
        "### Método de Cuadratura Gaussiana"
      ],
      "metadata": {
        "id": "Un259seHZxnf"
      }
    },
    {
      "cell_type": "code",
      "source": [
        "from sympy import *\n",
        "import numpy as np\n",
        "\n",
        "intervalo = [a,b]\n",
        "n = 1 # numero de polinomios\n",
        "x = symbols('x')\n",
        "f = np.e**(-x**2)# función a evaluar\n",
        "\n",
        "w = lambda f, a: f(a)\n",
        "\n",
        "w(f,intervalo)\n",
        "\n",
        "f_ = diff(f)# función derivada\n"
      ],
      "metadata": {
        "id": "969KFueEZxv5"
      },
      "execution_count": null,
      "outputs": []
    },
    {
      "cell_type": "markdown",
      "source": [
        "### Método de Runge Kutta 4 de orden *n*"
      ],
      "metadata": {
        "id": "erJ2VKAYeJK7"
      }
    },
    {
      "cell_type": "code",
      "source": [
        "t = [0,40] # intervalo\n",
        "h = 0.01 # tamaño de paso\n",
        "\n",
        "xi = [3,0,0] # condiciones iniciales\n",
        "xi_1 = [i for i in xi if 1]\n",
        "k = [[],[],[],[]] # K's\n",
        "\n",
        "def f(t_1,v=[]): # función a evaluar\n",
        "  return 10*(v[1]-v[0]) , v[0]*(28-v[2])-v[1] , v[0]*v[1]-8/3*v[2]\n",
        "\n",
        "iteraciones = 0\n",
        "\n",
        "while t[0] < t[1]:\n",
        "  iteraciones += 1\n",
        "  # k1\n",
        "  k[0] = [h*i for i in f(t[0],xi_1) if 1] # h*f(ti ; xi)\n",
        "\n",
        "  # k2\n",
        "  t[0] += (1/2)*h\n",
        "  for i in range(len(xi)):\n",
        "    xi_1[i] += (1/2)*k[0][i]\n",
        "  k[1] = [h*i for i in f(t[0],xi_1) if 1] # h*f(ti + 1/2 h, xi + 1/2 k1)\n",
        "\n",
        "  xi_1 = [i for i in xi if 1] # reset de xi_1\n",
        "\n",
        "  # k3\n",
        "  for i in range(len(xi)):\n",
        "    xi_1[i] += (1/2)*k[1][i]\n",
        "  k[2] = [h*i for i in f(t[0],xi_1) if 1] # h*f(ti + 1/2 h, xi + 1/2 k2)\n",
        "\n",
        "  xi_1 = [i for i in xi if 1] # reset de xi_1\n",
        "\n",
        "  # k4\n",
        "  t[0] += (1/2)*h\n",
        "  for i in range(len(xi)):\n",
        "    xi_1[i] += k[2][i]\n",
        "  k[3] = [h*i for i in f(t[0],xi_1) if 1] # h*f(ti + 1/2 h, xi + k3)\n",
        "  \n",
        "  for i in range(len(xi)):\n",
        "    xi[i] += (1/6)*(k[0][i] + 2*k[1][i] + 2*k[2][i] + k[3][i])\n",
        "  xi_1 = [i for i in xi if 1] # reset de xi_1\n",
        "print(\"\\titeraciones: {}\\nk1 = {}\\nk2 = {}\\nk3 = {}\\nk4 = {}\\nt = {}\\nx_{} = {}\\n\".format(iteraciones,k[0],k[1],k[2],k[3],t[0],iteraciones,xi))\n",
        "\n"
      ],
      "metadata": {
        "id": "dvgVg6RseJWA",
        "colab": {
          "base_uri": "https://localhost:8080/"
        },
        "outputId": "33f361e2-e54b-4096-b5db-5fbee11e4c2a"
      },
      "execution_count": null,
      "outputs": [
        {
          "output_type": "stream",
          "name": "stdout",
          "text": [
            "\titeraciones: 4000\n",
            "k1 = [0.8527290912387123, 1.2290390436199996, -0.6859689639819362]\n",
            "k2 = [0.8715445888577767, 1.1404337225055756, -0.7573606226239477]\n",
            "k3 = [0.8661735479211021, 1.1359831464937213, -0.7517350853213557]\n",
            "k4 = [0.8797100510959743, 1.0473897396920255, -0.8121116060653308]\n",
            "t = 40.00000000000201\n",
            "x_4000 = [-10.61412081281734, -1.8165987161938557, 37.6939044501885]\n",
            "\n"
          ]
        }
      ]
    },
    {
      "cell_type": "code",
      "source": [
        "# ejercicio 1\n",
        "t = [2,9] # intervalo\n",
        "h = 0.004 # tamaño de paso\n",
        "\n",
        "xi = [4,0,2] # condiciones iniciales\n",
        "xi_1 = [i for i in xi if 1]\n",
        "k = [[],[],[],[]] # K's\n",
        "\n",
        "def f(t_1,v=[]): # función a evaluar\n",
        "  return v[0] , v[1] , (-2*np.sin(t_1*v[0])+ 4* np.cos(t_1) - 3*v[2] - 6*np.e**-t_1)/(3*t_1)\n",
        "\n",
        "iteraciones = 0\n",
        "\n",
        "while t[0] < t[1]:\n",
        "  iteraciones += 1\n",
        "  # k1\n",
        "  k[0] = [h*i for i in f(t[0],xi_1) if 1] # h*f(ti ; xi)\n",
        "\n",
        "  # k2\n",
        "  t[0] += (1/2)*h\n",
        "  for i in range(len(xi)):\n",
        "    xi_1[i] += (1/2)*k[0][i]\n",
        "  k[1] = [h*i for i in f(t[0],xi_1) if 1] # h*f(ti + 1/2 h, xi + 1/2 k1)\n",
        "\n",
        "  xi_1 = [i for i in xi if 1] # reset de xi_1\n",
        "\n",
        "  # k3\n",
        "  for i in range(len(xi)):\n",
        "    xi_1[i] += (1/2)*k[1][i]\n",
        "  k[2] = [h*i for i in f(t[0],xi_1) if 1] # h*f(ti + 1/2 h, xi + 1/2 k2)\n",
        "\n",
        "  xi_1 = [i for i in xi if 1] # reset de xi_1\n",
        "\n",
        "  # k4\n",
        "  t[0] += (1/2)*h\n",
        "  for i in range(len(xi)):\n",
        "    xi_1[i] += k[2][i]\n",
        "  k[3] = [h*i for i in f(t[0],xi_1) if 1] # h*f(ti + 1/2 h, xi + k3)\n",
        "  \n",
        "  for i in range(len(xi)):\n",
        "    xi[i] += (1/6)*(k[0][i] + 2*k[1][i] + 2*k[2][i] + k[3][i])\n",
        "  xi_1 = [i for i in xi if 1] # reset de xi_1\n",
        "print(\"\\titeraciones: {}\\nk1 = {}\\nk2 = {}\\nk3 = {}\\nk4 = {}\\nt = {}\\nx_{} = {}\\n\".format(iteraciones,k[0],k[1],k[2],k[3],t[0],iteraciones,xi))"
      ],
      "metadata": {
        "colab": {
          "base_uri": "https://localhost:8080/"
        },
        "id": "0DGDsNpEikka",
        "outputId": "4502ceb1-df84-436d-a7c4-815c5a827ef4"
      },
      "execution_count": null,
      "outputs": [
        {
          "output_type": "stream",
          "name": "stdout",
          "text": [
            "\titeraciones: 1751\n",
            "k1 = [17.546130534594198, 0.0, -0.0009880678544986537]\n",
            "k2 = [17.581222795663386, 0.0, -0.0009792783654354834]\n",
            "k3 = [17.581292980185523, 0.0, -0.000987086660831109]\n",
            "k4 = [17.61645570651494, 0.0, -0.0009864604751683677]\n",
            "t = 9.003999999999674\n",
            "x_1751 = [4404.113903280684, 0.0, 0.3407218882141815]\n",
            "\n"
          ]
        }
      ]
    },
    {
      "cell_type": "code",
      "source": [
        "# ejercicio 2\n",
        "t = [4,8] # intervalo\n",
        "h = 0.008 # tamaño de paso\n",
        "\n",
        "xi = [4,0,0] # condiciones iniciales\n",
        "xi_1 = [i for i in xi if 1]\n",
        "k = [[],[],[],[]] # K's\n",
        "\n",
        "def f(t_1,v=[]): # función a evaluar\n",
        "  return v[0] , v[1] , (-np.sin(t_1  * v[0]) + 6*np.cos(t_1) - 9*v[2] - 10*(np.e**-t_1)*v[1] )/(10*t_1)\n",
        "\n",
        "iteraciones = 0\n",
        "\n",
        "while t[0] < t[1]:\n",
        "  iteraciones += 1\n",
        "  # k1\n",
        "  k[0] = [h*i for i in f(t[0],xi_1) if 1] # h*f(ti ; xi)\n",
        "\n",
        "  # k2\n",
        "  t[0] += (1/2)*h\n",
        "  for i in range(len(xi)):\n",
        "    xi_1[i] += (1/2)*k[0][i]\n",
        "  k[1] = [h*i for i in f(t[0],xi_1) if 1] # h*f(ti + 1/2 h, xi + 1/2 k1)\n",
        "\n",
        "  xi_1 = [i for i in xi if 1] # reset de xi_1\n",
        "\n",
        "  # k3\n",
        "  for i in range(len(xi)):\n",
        "    xi_1[i] += (1/2)*k[1][i]\n",
        "  k[2] = [h*i for i in f(t[0],xi_1) if 1] # h*f(ti + 1/2 h, xi + 1/2 k2)\n",
        "\n",
        "  xi_1 = [i for i in xi if 1] # reset de xi_1\n",
        "\n",
        "  # k4\n",
        "  t[0] += (1/2)*h\n",
        "  for i in range(len(xi)):\n",
        "    xi_1[i] += k[2][i]\n",
        "  k[3] = [h*i for i in f(t[0],xi_1) if 1] # h*f(ti + 1/2 h, xi + k3)\n",
        "  \n",
        "  for i in range(len(xi)):\n",
        "    xi[i] += (1/6)*(k[0][i] + 2*k[1][i] + 2*k[2][i] + k[3][i])\n",
        "  xi_1 = [i for i in xi if 1] # reset de xi_1\n",
        "print(\"\\titeraciones: {}\\nk1 = {}\\nk2 = {}\\nk3 = {}\\nk4 = {}\\nt = {}\\nx_{} = {}\\n\".format(iteraciones,k[0],k[1],k[2],k[3],t[0],iteraciones,xi))"
      ],
      "metadata": {
        "colab": {
          "base_uri": "https://localhost:8080/"
        },
        "id": "DZhqjMQWmTe_",
        "outputId": "eac63366-8b81-4bef-cc55-239b8ef82993"
      },
      "execution_count": null,
      "outputs": [
        {
          "output_type": "stream",
          "name": "stdout",
          "text": [
            "\titeraciones: 501\n",
            "k1 = [1.7471408008236595, 0.0, -0.00024797783444691123]\n",
            "k2 = [1.7541293640269542, 0.0, -0.0003007685600921801]\n",
            "k3 = [1.7541573182797672, 0.0, -0.00029955185737617906]\n",
            "k4 = [1.7611740593698977, 0.0, -0.00016384887778426278]\n",
            "t = 8.007999999999559\n",
            "x_501 = [220.14674814042527, 0.0, 0.13343425853897148]\n",
            "\n"
          ]
        }
      ]
    },
    {
      "cell_type": "code",
      "source": [
        "# ejercicio 3\n",
        "t = [2,7] # intervalo\n",
        "h = 0.002 # tamaño de paso\n",
        "\n",
        "xi = [2,0,1] # condiciones iniciales\n",
        "xi_1 = [i for i in xi if 1]\n",
        "k = [[],[],[],[]] # K's\n",
        "\n",
        "def f(t_1,v=[]): # función a evaluar\n",
        "  return v[0] , v[1] , (-3*np.sin(t_1*v[0])+ 4* np.cos(t_1) - 2*v[2] - 10*(np.e**-t_1)*v[1])/(6*t_1)\n",
        "\n",
        "iteraciones = 0\n",
        "\n",
        "while t[0] < t[1]:\n",
        "  iteraciones += 1\n",
        "  # k1\n",
        "  k[0] = [h*i for i in f(t[0],xi_1) if 1] # h*f(ti ; xi)\n",
        "\n",
        "  # k2\n",
        "  t[0] += (1/2)*h\n",
        "  for i in range(len(xi)):\n",
        "    xi_1[i] += (1/2)*k[0][i]\n",
        "  k[1] = [h*i for i in f(t[0],xi_1) if 1] # h*f(ti + 1/2 h, xi + 1/2 k1)\n",
        "\n",
        "  xi_1 = [i for i in xi if 1] # reset de xi_1\n",
        "\n",
        "  # k3\n",
        "  for i in range(len(xi)):\n",
        "    xi_1[i] += (1/2)*k[1][i]\n",
        "  k[2] = [h*i for i in f(t[0],xi_1) if 1] # h*f(ti + 1/2 h, xi + 1/2 k2)\n",
        "\n",
        "  xi_1 = [i for i in xi if 1] # reset de xi_1\n",
        "\n",
        "  # k4\n",
        "  t[0] += (1/2)*h\n",
        "  for i in range(len(xi)):\n",
        "    xi_1[i] += k[2][i]\n",
        "  k[3] = [h*i for i in f(t[0],xi_1) if 1] # h*f(ti + 1/2 h, xi + k3)\n",
        "  \n",
        "  for i in range(len(xi)):\n",
        "    xi[i] += (1/6)*(k[0][i] + 2*k[1][i] + 2*k[2][i] + k[3][i])\n",
        "  xi_1 = [i for i in xi if 1] # reset de xi_1\n",
        "print(\"\\titeraciones: {}\\nk1 = {}\\nk2 = {}\\nk3 = {}\\nk4 = {}\\nt = {}\\nx_{} = {}\\n\".format(iteraciones,k[0],k[1],k[2],k[3],t[0],iteraciones,xi))"
      ],
      "metadata": {
        "colab": {
          "base_uri": "https://localhost:8080/"
        },
        "id": "OaIEVg45nH3L",
        "outputId": "d8bc560d-2a70-4dca-9e57-ed76fc3f625c"
      },
      "execution_count": null,
      "outputs": [
        {
          "output_type": "stream",
          "name": "stdout",
          "text": [
            "\titeraciones: 2500\n",
            "k1 = [0.5924665176512237, 0.0, 0.00014949266155675508]\n",
            "k2 = [0.593058984168875, 0.0, -3.99775787094874e-05]\n",
            "k3 = [0.5930595766353927, 0.0, -3.985620352403955e-05]\n",
            "k4 = [0.5936526368044945, 0.0, 0.00022485679273257373]\n",
            "t = 7.000000000000782\n",
            "x_2500 = [296.8263182049559, 0.0, 0.5402634940886858]\n",
            "\n"
          ]
        }
      ]
    },
    {
      "cell_type": "code",
      "source": [
        "# ejercicio 4\n",
        "t = [1,7] # intervalo\n",
        "h = 0.002 # tamaño de paso\n",
        "\n",
        "xi = [2,3,1] # condiciones iniciales\n",
        "xi_1 = [i for i in xi if 1]\n",
        "k = [[],[],[],[]] # K's\n",
        "\n",
        "def f(t_1,v=[]): # función a evaluar\n",
        "  return v[0] , v[1] , (-2*np.sin(t_1*v[0]) + 10* np.cos(t_1) - 5*v[2] - 8*(np.e**-t_1)*v[1])/(2*t_1)\n",
        "\n",
        "iteraciones = 0\n",
        "\n",
        "while t[0] < t[1]:\n",
        "  iteraciones += 1\n",
        "  # k1\n",
        "  k[0] = [h*i for i in f(t[0],xi_1) if 1] # h*f(ti ; xi)\n",
        "\n",
        "  # k2\n",
        "  t[0] += (1/2)*h\n",
        "  for i in range(len(xi)):\n",
        "    xi_1[i] += (1/2)*k[0][i]\n",
        "  k[1] = [h*i for i in f(t[0],xi_1) if 1] # h*f(ti + 1/2 h, xi + 1/2 k1)\n",
        "\n",
        "  xi_1 = [i for i in xi if 1] # reset de xi_1\n",
        "\n",
        "  # k3\n",
        "  for i in range(len(xi)):\n",
        "    xi_1[i] += (1/2)*k[1][i]\n",
        "  k[2] = [h*i for i in f(t[0],xi_1) if 1] # h*f(ti + 1/2 h, xi + 1/2 k2)\n",
        "\n",
        "  xi_1 = [i for i in xi if 1] # reset de xi_1\n",
        "\n",
        "  # k4\n",
        "  t[0] += (1/2)*h\n",
        "  for i in range(len(xi)):\n",
        "    xi_1[i] += k[2][i]\n",
        "  k[3] = [h*i for i in f(t[0],xi_1) if 1] # h*f(ti + 1/2 h, xi + k3)\n",
        "  \n",
        "  for i in range(len(xi)):\n",
        "    xi[i] += (1/6)*(k[0][i] + 2*k[1][i] + 2*k[2][i] + k[3][i])\n",
        "  xi_1 = [i for i in xi if 1] # reset de xi_1\n",
        "print(\"\\titeraciones: {}\\nk1 = {}\\nk2 = {}\\nk3 = {}\\nk4 = {}\\nt = {}\\nx_{} = {}\\n\".format(iteraciones,k[0],k[1],k[2],k[3],t[0],iteraciones,xi))"
      ],
      "metadata": {
        "colab": {
          "base_uri": "https://localhost:8080/"
        },
        "id": "vS59UlFCnwPY",
        "outputId": "0770b96e-3629-490f-94f5-a65c1246d42f"
      },
      "execution_count": null,
      "outputs": [
        {
          "output_type": "stream",
          "name": "stdout",
          "text": [
            "\titeraciones: 3000\n",
            "k1 = [1.6104909689015197, 2.415736453352269, 0.0009084199302582466]\n",
            "k2 = [1.6121014598704213, 2.418152189805621, 0.0008766069619303936]\n",
            "k3 = [1.6121030703613901, 2.418154605542075, 0.0008754370748861247]\n",
            "k4 = [1.6137151750422425, 2.4205727625633533, 0.0008368994620701007]\n",
            "t = 7.0000000000006715\n",
            "x_3000 = [806.8575869848277, 1210.2863804772364, -1.2103069422442643]\n",
            "\n"
          ]
        }
      ]
    },
    {
      "cell_type": "code",
      "source": [
        "# ejercicio 5\n",
        "t = [2,9] # intervalo\n",
        "h = 0.008 # tamaño de paso\n",
        "\n",
        "xi = [1,0,2] # condiciones iniciales\n",
        "xi_1 = [i for i in xi if 1]\n",
        "k = [[],[],[],[]] # K's\n",
        "\n",
        "def f(t_1,v=[]): # función a evaluar\n",
        "  return v[0] , v[1] , (-9*np.sin(t_1*v[0]) + 10* np.cos(t_1) - 10*v[2] - 9*(np.e**-t_1)*v[1])/(6*t_1)\n",
        "\n",
        "iteraciones = 0\n",
        "\n",
        "while t[0] < t[1]:\n",
        "  iteraciones += 1\n",
        "  # k1\n",
        "  k[0] = [h*i for i in f(t[0],xi_1) if 1] # h*f(ti ; xi)\n",
        "\n",
        "  # k2\n",
        "  t[0] += (1/2)*h\n",
        "  for i in range(len(xi)):\n",
        "    xi_1[i] += (1/2)*k[0][i]\n",
        "  k[1] = [h*i for i in f(t[0],xi_1) if 1] # h*f(ti + 1/2 h, xi + 1/2 k1)\n",
        "\n",
        "  xi_1 = [i for i in xi if 1] # reset de xi_1\n",
        "\n",
        "  # k3\n",
        "  for i in range(len(xi)):\n",
        "    xi_1[i] += (1/2)*k[1][i]\n",
        "  k[2] = [h*i for i in f(t[0],xi_1) if 1] # h*f(ti + 1/2 h, xi + 1/2 k2)\n",
        "\n",
        "  xi_1 = [i for i in xi if 1] # reset de xi_1\n",
        "\n",
        "  # k4\n",
        "  t[0] += (1/2)*h\n",
        "  for i in range(len(xi)):\n",
        "    xi_1[i] += k[2][i]\n",
        "  k[3] = [h*i for i in f(t[0],xi_1) if 1] # h*f(ti + 1/2 h, xi + k3)\n",
        "  \n",
        "  for i in range(len(xi)):\n",
        "    xi[i] += (1/6)*(k[0][i] + 2*k[1][i] + 2*k[2][i] + k[3][i])\n",
        "  xi_1 = [i for i in xi if 1] # reset de xi_1\n",
        "print(\"\\titeraciones: {}\\nk1 = {}\\nk2 = {}\\nk3 = {}\\nk4 = {}\\nt = {}\\nx_{} = {}\\n\".format(iteraciones,k[0],k[1],k[2],k[3],t[0],iteraciones,xi))"
      ],
      "metadata": {
        "colab": {
          "base_uri": "https://localhost:8080/"
        },
        "id": "10yH4gZ7oOmW",
        "outputId": "ee6b27ac-f447-4e80-e71a-91b93fa28324"
      },
      "execution_count": null,
      "outputs": [
        {
          "output_type": "stream",
          "name": "stdout",
          "text": [
            "\titeraciones: 876\n",
            "k1 = [8.773065265345416, 0.0, -0.00040177349299112467]\n",
            "k2 = [8.808157526406799, 0.0, -0.0003601326608604664]\n",
            "k3 = [8.808297895451044, 0.0, -0.00043517750887035983]\n",
            "k4 = [8.843531648509025, 0.0, -0.0004967207674961392]\n",
            "t = 9.00799999999945\n",
            "x_876 = [1105.4414094611054, 0.0, 0.1937360140646154]\n",
            "\n"
          ]
        }
      ]
    },
    {
      "cell_type": "markdown",
      "source": [
        "# Programas extras"
      ],
      "metadata": {
        "id": "ha4Vrkh5Syxf"
      }
    },
    {
      "cell_type": "code",
      "source": [
        "#####################################################################\n",
        "#                                                                   #\n",
        "#                       desarrollado por:                           #\n",
        "#                     Fernando Arciga Guzmán                        #\n",
        "#                        para el curso de                           #\n",
        "#                                                                   #\n",
        "#                        Análisis Numérico                          #\n",
        "#                                                                   #\n",
        "#####################################################################\n",
        "# por si las dudas instalamos PyQt5 jeje\n",
        "!pip install PyQt5\n",
        "\n",
        "# librerías utilizadas\n",
        "from PyQt5.QtWidgets import *\n",
        "from PyQt5.QtCore import *\n",
        "from PyQt5.QtGui import *\n",
        "from sympy import *\n",
        "from sympy.parsing.sympy_parser import parse_expr\n",
        "import numpy as np\n",
        "from numpy.random import uniform\n",
        "from matplotlib import pyplot as plt\n",
        "\n",
        "class raiz(QMainWindow):\n",
        "    def __init__(self, parent=None, *args): # constructor de la clase raiz\n",
        "        super(raiz, self).__init__(parent=parent)\n",
        "        self.setWindowTitle(\"Proyecto Final de Análisis Numérico\")\n",
        "        self.setFixedSize(1280,720)\n",
        "\n",
        "        # Marco principal del programa\n",
        "        self.marco = QWidget(self)\n",
        "        self.marco.setGeometry(0,0,1280,720)\n",
        "        self.marco.setStyleSheet(\"background:#424242; color:#fff\")\n",
        "\n",
        "        # Título principal\n",
        "        self.layout = QGridLayout(self.marco)\n",
        "        self.main_texto = QLabel(\"Elije una operación a realizar\")\n",
        "        self.layout.addWidget(self.main_texto, 0, 0, 0, 3, Qt.AlignHCenter|Qt.AlignTop)\n",
        "\n",
        "        # sección de Montecarlo\n",
        "        self.textoIntegral = QLabel(\"Integral por el metodo de Montecarlo\") # título\n",
        "        self.layout.addWidget(self.textoIntegral,1,0,1,1,Qt.AlignTop|Qt.AlignHCenter)\n",
        "\n",
        "        # entradas de texto\n",
        "        self.monte_in_fun = QLineEdit()\n",
        "        self.monte_in_fun.setPlaceholderText(\"Ingresa la función\")\n",
        "        self.monte_in_fun.setClearButtonEnabled(True)\n",
        "        self.layout.addWidget(self.monte_in_fun,2,0,1,1,Qt.AlignTop|Qt.AlignHCenter)\n",
        "        self.monte_in_sup = QLineEdit()\n",
        "        self.monte_in_sup.setPlaceholderText(\"Ingresa el límite superior\")\n",
        "        self.monte_in_sup.setClearButtonEnabled(True)\n",
        "        self.layout.addWidget(self.monte_in_sup,3,0,1,1,Qt.AlignTop|Qt.AlignHCenter)\n",
        "        self.monte_in_inf = QLineEdit()\n",
        "        self.monte_in_inf.setPlaceholderText(\"Ingresa el límite inferior\")\n",
        "        self.monte_in_inf.setClearButtonEnabled(True)\n",
        "        self.layout.addWidget(self.monte_in_inf,4,0,1,1,Qt.AlignTop|Qt.AlignHCenter)\n",
        "        self.monte_in_puntos = QLineEdit()\n",
        "        self.monte_in_puntos.setPlaceholderText(\"Ingresa el número de puntos\")\n",
        "        self.monte_in_puntos.setClearButtonEnabled(True)\n",
        "        self.layout.addWidget(self.monte_in_puntos,5,0,1,1,Qt.AlignTop|Qt.AlignHCenter)\n",
        "        # botón\n",
        "        self.integral = QPushButton(\"ejecutar\")\n",
        "        self.layout.addWidget(self.integral,6,0,1,1,Qt.AlignHCenter)\n",
        "        # OnClickEvent\n",
        "        self.integral.clicked.connect(self.botonIntegral)\n",
        "\n",
        "        # sección de Mandelbrot\n",
        "        self.textoMandelbrot = QLabel(\"Gráfica del conjunto de Mandelbrot\") # título\n",
        "        self.layout.addWidget(self.textoMandelbrot, 1,1,1,1,Qt.AlignTop|Qt.AlignHCenter)\n",
        "\n",
        "        # entradas de texto\n",
        "        self.Mandelbrot_in_v = QLineEdit()\n",
        "        self.Mandelbrot_in_v.setPlaceholderText(\"Ingresa la velocidad\")\n",
        "        self.Mandelbrot_in_v.setClearButtonEnabled(True)\n",
        "        self.layout.addWidget(self.Mandelbrot_in_v, 2,1,1,1,Qt.AlignTop|Qt.AlignHCenter)\n",
        "        self.Mandelbrot_in_y = QLineEdit()\n",
        "        self.Mandelbrot_in_y.setPlaceholderText(\"Ingresa la coordenada en y\")\n",
        "        self.Mandelbrot_in_y.setClearButtonEnabled(True)\n",
        "        self.layout.addWidget(self.Mandelbrot_in_y, 3,1,1,1,Qt.AlignTop|Qt.AlignHCenter)\n",
        "        self.Mandelbrot_in_x = QLineEdit()\n",
        "        self.Mandelbrot_in_x.setPlaceholderText(\"Ingresa la coordenada en x\")\n",
        "        self.Mandelbrot_in_x.setClearButtonEnabled(True)\n",
        "        self.layout.addWidget(self.Mandelbrot_in_x, 4,1,1,1,Qt.AlignTop|Qt.AlignHCenter)\n",
        "        # Botón\n",
        "        self.Mandelbrot = QPushButton(\"ejecutar\")\n",
        "        self.layout.addWidget(self.Mandelbrot, 6,1,1,1,Qt.AlignHCenter)\n",
        "        # OnClickEvent\n",
        "        self.Mandelbrot.clicked.connect(self.botonMandelbrot)\n",
        "\n",
        "        # sección de Newton\n",
        "        self.textoNewton = QLabel(\"Gráfica del fractal de Newton\") # título\n",
        "        self.layout.addWidget(self.textoNewton, 1,2,1,1,Qt.AlignTop|Qt.AlignHCenter)\n",
        "        # Entrada de textos\n",
        "        self.Newton_roots = QLineEdit()\n",
        "        self.Newton_roots.setPlaceholderText(\"Ingresa las raices complejas separadas por comas\")\n",
        "        self.Newton_roots.setClearButtonEnabled(True)\n",
        "        self.layout.addWidget(self.Newton_roots, 2,2,1,1,Qt.AlignTop|Qt.AlignHCenter)\n",
        "        self.Newton_in_y = QLineEdit()\n",
        "        self.Newton_in_y.setPlaceholderText(\"Ingresa la coordenada en y\")\n",
        "        self.Newton_in_y.setClearButtonEnabled(True)\n",
        "        self.layout.addWidget(self.Newton_in_y, 3,2,1,1,Qt.AlignTop|Qt.AlignHCenter)\n",
        "        self.Newton_in_x = QLineEdit()\n",
        "        self.Newton_in_x.setPlaceholderText(\"Ingresa la coordenada en x\")\n",
        "        self.Newton_in_x.setClearButtonEnabled(True)\n",
        "        self.layout.addWidget(self.Newton_in_x, 4,2,1,1,Qt.AlignTop|Qt.AlignHCenter)\n",
        "        # Botón\n",
        "        self.Newton = QPushButton(\"ejecutar\")\n",
        "        self.layout.addWidget(self.Newton, 6,2,1,1,Qt.AlignHCenter)\n",
        "        # OnClickEvent\n",
        "        self.Newton.clicked.connect(self.botonNewton)\n",
        "\n",
        "    def botonIntegral(self):\n",
        "        try:\n",
        "            x = symbols('x') # tomamos X como simbolo\n",
        "\n",
        "            # obtenemos los textos de la interfaz\n",
        "            expresión = str(self.monte_in_fun.text())\n",
        "            lim_inf = float(self.monte_in_inf.text())\n",
        "            lim_sup = float(self.monte_in_sup.text())\n",
        "            num_puntos = int(self.monte_in_puntos.text())\n",
        "\n",
        "            # convertimos de texto a expresión\n",
        "            f = parse_expr(expresión)\n",
        "\n",
        "            # mandamos a la gráfica nuestra función\n",
        "            plot(f, (x, lim_inf, lim_sup))\n",
        "\n",
        "            # y de expresión la volvemos función\n",
        "            f = lambdify(x, f, 'numpy')\n",
        "\n",
        "            # generamos numeros aleatorios en el rango\n",
        "            random = uniform(lim_inf,lim_sup,num_puntos)\n",
        "\n",
        "            # cálculo de la integral\n",
        "            resultado = 0\n",
        "            for i in random:\n",
        "                resultado += f(i)\n",
        "            resultado = (lim_sup-lim_inf)*resultado/num_puntos\n",
        "\n",
        "            # valores que tomará la gráfica\n",
        "            x = np.arange(lim_inf,lim_sup,(lim_sup-lim_inf)/len(random)) # x puede tomar los límites\n",
        "            y = random # y puede tomar los valores aleatorios\n",
        "\n",
        "            # hacemos el plot\n",
        "            plt.rcParams[\"figure.autolayout\"] = True\n",
        "            plt.xlim(lim_inf, lim_sup)\n",
        "            plt.ylim(f(lim_inf), f(lim_sup))\n",
        "            plt.grid()\n",
        "            plt.plot(x, y, marker=\"o\", markersize=10, markeredgecolor=\"blue\", markerfacecolor=\"grey\")\n",
        "\n",
        "            # imprimimos en el programa base el resultado en la parte inferior\n",
        "            self.resultado_texto = QLabel(\"El valor de la integral por el método de Montecarlo para la función {} en el intervalo [{},{}] es: {}\".format(expresión,lim_inf,lim_sup,resultado))\n",
        "            self.layout.addWidget(self.resultado_texto, 7, 0, 1, 3, Qt.AlignHCenter)\n",
        "            # mostramos la gráfica\n",
        "            plt.show()\n",
        "        except Exception as e:\n",
        "            # ocurre un error\n",
        "            self.resultado_texto = QLabel(\"Ocurrió un error al tratar de generar la integral, solo acepta valores para x, el error es:\", e)\n",
        "            self.layout.addWidget(self.resultado_texto, 7, 0, 1, 3, Qt.AlignHCenter)\n",
        "            raise\n",
        "\n",
        "\n",
        "    def botonMandelbrot(self):\n",
        "        roots = 0 + 1j\n",
        "        try:\n",
        "            velocidad = float(self.Mandelbrot_in_v.text())\n",
        "            vertice_x = float(self.Mandelbrot_in_x.text())\n",
        "            vertice_y = float(self.Mandelbrot_in_y.text())\n",
        "        except Exception as e:\n",
        "            velocidad = float(self.Mandelbrot_in_v.text())\n",
        "\n",
        "    def Mandelbrot_anim(self):\n",
        "        print(\"animación\")\n",
        "\n",
        "    def botonNewton(self):\n",
        "        return \"seleccionado Newton\"\n",
        "\n",
        "if __name__ == \"__main__\":\n",
        "    app = QApplication([]) # instancia principal de la app\n",
        "    GUI = raiz() # raiz de las ventanas\n",
        "    GUI.show()   # muestra la ventana\n",
        "    app.exec_() # loop principal\n"
      ],
      "metadata": {
        "colab": {
          "base_uri": "https://localhost:8080/"
        },
        "id": "Wifo00AXSvlR",
        "outputId": "7b576509-0f64-406e-dc9b-07c802413500"
      },
      "execution_count": null,
      "outputs": [
        {
          "output_type": "stream",
          "name": "stdout",
          "text": [
            "Looking in indexes: https://pypi.org/simple, https://us-python.pkg.dev/colab-wheels/public/simple/\n",
            "Collecting PyQt5\n",
            "  Downloading PyQt5-5.15.6-cp36-abi3-manylinux1_x86_64.whl (8.3 MB)\n",
            "\u001b[K     |████████████████████████████████| 8.3 MB 10.0 MB/s \n",
            "\u001b[?25hCollecting PyQt5-sip<13,>=12.8\n",
            "  Downloading PyQt5_sip-12.10.1-cp37-cp37m-manylinux1_x86_64.whl (338 kB)\n",
            "\u001b[K     |████████████████████████████████| 338 kB 38.6 MB/s \n",
            "\u001b[?25hCollecting PyQt5-Qt5>=5.15.2\n",
            "  Downloading PyQt5_Qt5-5.15.2-py3-none-manylinux2014_x86_64.whl (59.9 MB)\n",
            "\u001b[K     |████████████████████████████████| 59.9 MB 98 kB/s \n",
            "\u001b[?25hInstalling collected packages: PyQt5-sip, PyQt5-Qt5, PyQt5\n",
            "Successfully installed PyQt5-5.15.6 PyQt5-Qt5-5.15.2 PyQt5-sip-12.10.1\n"
          ]
        }
      ]
    }
  ]
}